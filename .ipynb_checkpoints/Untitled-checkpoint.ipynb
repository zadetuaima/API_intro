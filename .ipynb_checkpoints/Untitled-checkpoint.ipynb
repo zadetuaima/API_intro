{
 "cells": [
  {
   "cell_type": "code",
   "execution_count": 1,
   "id": "00675639-cc67-4e8b-ac26-894eb08ab616",
   "metadata": {},
   "outputs": [],
   "source": [
    "import json\n",
    "import urllib.request"
   ]
  },
  {
   "cell_type": "code",
   "execution_count": 3,
   "id": "ff1e7f7c-51d8-457c-bc9d-62383a1422ef",
   "metadata": {},
   "outputs": [],
   "source": [
    "#so first we wanna use python to go to a webpage\n",
    "\n",
    "request = urllib.request.Request(\"http://api.open-notify.org/iss-now.json\")\n",
    "\n",
    "#response holds everything the website gives back\n",
    "response = urllib.request.urlopen(request)"
   ]
  },
  {
   "cell_type": "code",
   "execution_count": null,
   "id": "af24f33f-b514-41d0-829d-8ffc4e75f895",
   "metadata": {},
   "outputs": [],
   "source": [
    "#now we wanna covert this all into json"
   ]
  }
 ],
 "metadata": {
  "kernelspec": {
   "display_name": "Python 3 (ipykernel)",
   "language": "python",
   "name": "python3"
  },
  "language_info": {
   "codemirror_mode": {
    "name": "ipython",
    "version": 3
   },
   "file_extension": ".py",
   "mimetype": "text/x-python",
   "name": "python",
   "nbconvert_exporter": "python",
   "pygments_lexer": "ipython3",
   "version": "3.12.7"
  }
 },
 "nbformat": 4,
 "nbformat_minor": 5
}
