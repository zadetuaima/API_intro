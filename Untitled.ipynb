{
 "cells": [
  {
   "cell_type": "code",
   "execution_count": 8,
   "id": "00675639-cc67-4e8b-ac26-894eb08ab616",
   "metadata": {},
   "outputs": [],
   "source": [
    "import json\n",
    "import urllib.request"
   ]
  },
  {
   "cell_type": "code",
   "execution_count": 19,
   "id": "ff1e7f7c-51d8-457c-bc9d-62383a1422ef",
   "metadata": {},
   "outputs": [],
   "source": [
    "#so first we wanna use python to go to a webpage\n",
    "\n",
    "request = urllib.request.Request(\"http://api.open-notify.org/iss-now.json\")\n",
    "\n",
    "#response holds everything the website gives back\n",
    "response = urllib.request.urlopen(request)"
   ]
  },
  {
   "cell_type": "code",
   "execution_count": 20,
   "id": "af24f33f-b514-41d0-829d-8ffc4e75f895",
   "metadata": {},
   "outputs": [],
   "source": [
    "#we onyl want the json data from this response\n",
    "#and we wanna then convert the json into a dictionary\n",
    "iss_dic = json.loads(response.read())"
   ]
  },
  {
   "cell_type": "code",
   "execution_count": 21,
   "id": "03a5543a-1325-491c-9d91-ec2dd7a1a13a",
   "metadata": {},
   "outputs": [
    {
     "name": "stdout",
     "output_type": "stream",
     "text": [
      "{'message': 'success', 'iss_position': {'longitude': '143.6891', 'latitude': '-0.0291'}, 'timestamp': 1729865120}\n"
     ]
    }
   ],
   "source": [
    "print(iss_dic)"
   ]
  },
  {
   "cell_type": "code",
   "execution_count": 23,
   "id": "6e4c0c02-7ccc-4687-920f-f67db30e6fcb",
   "metadata": {},
   "outputs": [
    {
     "name": "stdout",
     "output_type": "stream",
     "text": [
      "143.6891\n"
     ]
    }
   ],
   "source": [
    "#say we wanna just get the longitude position...\n",
    "print(iss_dic['iss_position']['longitude'])"
   ]
  },
  {
   "cell_type": "code",
   "execution_count": null,
   "id": "5b17b414-d1f3-4e62-993a-32175cc738ae",
   "metadata": {},
   "outputs": [],
   "source": []
  }
 ],
 "metadata": {
  "kernelspec": {
   "display_name": "Python 3 (ipykernel)",
   "language": "python",
   "name": "python3"
  },
  "language_info": {
   "codemirror_mode": {
    "name": "ipython",
    "version": 3
   },
   "file_extension": ".py",
   "mimetype": "text/x-python",
   "name": "python",
   "nbconvert_exporter": "python",
   "pygments_lexer": "ipython3",
   "version": "3.12.7"
  }
 },
 "nbformat": 4,
 "nbformat_minor": 5
}
